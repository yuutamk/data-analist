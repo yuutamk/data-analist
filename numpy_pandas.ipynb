{
 "cells": [
  {
   "cell_type": "markdown",
   "id": "c1b1ea3f",
   "metadata": {},
   "source": [
    "# 1. Configuracion del entorno"
   ]
  },
  {
   "cell_type": "markdown",
   "id": "e83024b7",
   "metadata": {},
   "source": [
    "Instalar dependencias"
   ]
  },
  {
   "cell_type": "code",
   "execution_count": 1,
   "id": "80a5c5eb",
   "metadata": {},
   "outputs": [
    {
     "name": "stdout",
     "output_type": "stream",
     "text": [
      "Collecting numpy\n",
      "  Using cached numpy-2.3.2-cp313-cp313-manylinux_2_27_x86_64.manylinux_2_28_x86_64.whl.metadata (62 kB)\n",
      "Collecting pandas\n",
      "  Downloading pandas-2.3.2-cp313-cp313-manylinux_2_17_x86_64.manylinux2014_x86_64.whl.metadata (91 kB)\n",
      "Collecting matplotlib\n",
      "  Using cached matplotlib-3.10.5-cp313-cp313-manylinux2014_x86_64.manylinux_2_17_x86_64.whl.metadata (11 kB)\n",
      "Collecting seaborn\n",
      "  Using cached seaborn-0.13.2-py3-none-any.whl.metadata (5.4 kB)\n",
      "Collecting scikit-learn\n",
      "  Downloading scikit_learn-1.7.1-cp313-cp313-manylinux2014_x86_64.manylinux_2_17_x86_64.whl.metadata (11 kB)\n",
      "Requirement already satisfied: python-dateutil>=2.8.2 in ./env/lib/python3.13/site-packages (from pandas) (2.9.0.post0)\n",
      "Collecting pytz>=2020.1 (from pandas)\n",
      "  Using cached pytz-2025.2-py2.py3-none-any.whl.metadata (22 kB)\n",
      "Collecting tzdata>=2022.7 (from pandas)\n",
      "  Using cached tzdata-2025.2-py2.py3-none-any.whl.metadata (1.4 kB)\n",
      "Collecting contourpy>=1.0.1 (from matplotlib)\n",
      "  Using cached contourpy-1.3.3-cp313-cp313-manylinux_2_27_x86_64.manylinux_2_28_x86_64.whl.metadata (5.5 kB)\n",
      "Collecting cycler>=0.10 (from matplotlib)\n",
      "  Using cached cycler-0.12.1-py3-none-any.whl.metadata (3.8 kB)\n",
      "Collecting fonttools>=4.22.0 (from matplotlib)\n",
      "  Downloading fonttools-4.59.2-cp313-cp313-manylinux1_x86_64.manylinux2014_x86_64.manylinux_2_17_x86_64.manylinux_2_5_x86_64.whl.metadata (109 kB)\n",
      "Collecting kiwisolver>=1.3.1 (from matplotlib)\n",
      "  Using cached kiwisolver-1.4.9-cp313-cp313-manylinux2014_x86_64.manylinux_2_17_x86_64.whl.metadata (6.3 kB)\n",
      "Requirement already satisfied: packaging>=20.0 in ./env/lib/python3.13/site-packages (from matplotlib) (25.0)\n",
      "Collecting pillow>=8 (from matplotlib)\n",
      "  Using cached pillow-11.3.0-cp313-cp313-manylinux_2_27_x86_64.manylinux_2_28_x86_64.whl.metadata (9.0 kB)\n",
      "Collecting pyparsing>=2.3.1 (from matplotlib)\n",
      "  Using cached pyparsing-3.2.3-py3-none-any.whl.metadata (5.0 kB)\n",
      "Collecting scipy>=1.8.0 (from scikit-learn)\n",
      "  Downloading scipy-1.16.1-cp313-cp313-manylinux2014_x86_64.manylinux_2_17_x86_64.whl.metadata (61 kB)\n",
      "Collecting joblib>=1.2.0 (from scikit-learn)\n",
      "  Downloading joblib-1.5.2-py3-none-any.whl.metadata (5.6 kB)\n",
      "Collecting threadpoolctl>=3.1.0 (from scikit-learn)\n",
      "  Using cached threadpoolctl-3.6.0-py3-none-any.whl.metadata (13 kB)\n",
      "Requirement already satisfied: six>=1.5 in ./env/lib/python3.13/site-packages (from python-dateutil>=2.8.2->pandas) (1.17.0)\n",
      "Using cached numpy-2.3.2-cp313-cp313-manylinux_2_27_x86_64.manylinux_2_28_x86_64.whl (16.6 MB)\n",
      "Downloading pandas-2.3.2-cp313-cp313-manylinux_2_17_x86_64.manylinux2014_x86_64.whl (12.1 MB)\n",
      "\u001b[2K   \u001b[90m━━━━━━━━━━━━━━━━━━━━━━━━━━━━━━━━━━━━━━━━\u001b[0m \u001b[32m12.1/12.1 MB\u001b[0m \u001b[31m720.5 kB/s\u001b[0m  \u001b[33m0:00:16\u001b[0mm0:00:01\u001b[0m00:01\u001b[0m\n",
      "\u001b[?25hUsing cached matplotlib-3.10.5-cp313-cp313-manylinux2014_x86_64.manylinux_2_17_x86_64.whl (8.7 MB)\n",
      "Using cached seaborn-0.13.2-py3-none-any.whl (294 kB)\n",
      "Downloading scikit_learn-1.7.1-cp313-cp313-manylinux2014_x86_64.manylinux_2_17_x86_64.whl (9.4 MB)\n",
      "\u001b[2K   \u001b[90m━━━━━━━━━━━━━━━━━━━━━━━━━━━━━━━━━━━━━━━━\u001b[0m \u001b[32m9.4/9.4 MB\u001b[0m \u001b[31m916.9 kB/s\u001b[0m  \u001b[33m0:00:10\u001b[0m eta \u001b[36m0:00:01\u001b[0m\n",
      "\u001b[?25hUsing cached contourpy-1.3.3-cp313-cp313-manylinux_2_27_x86_64.manylinux_2_28_x86_64.whl (362 kB)\n",
      "Using cached cycler-0.12.1-py3-none-any.whl (8.3 kB)\n",
      "Downloading fonttools-4.59.2-cp313-cp313-manylinux1_x86_64.manylinux2014_x86_64.manylinux_2_17_x86_64.manylinux_2_5_x86_64.whl (4.9 MB)\n",
      "\u001b[2K   \u001b[90m━━━━━━━━━━━━━━━━━━━━━━━━━━━━━━━━━━━━━━━━\u001b[0m \u001b[32m4.9/4.9 MB\u001b[0m \u001b[31m818.0 kB/s\u001b[0m  \u001b[33m0:00:05\u001b[0m eta \u001b[36m0:00:01\u001b[0m\n",
      "\u001b[?25hDownloading joblib-1.5.2-py3-none-any.whl (308 kB)\n",
      "Using cached kiwisolver-1.4.9-cp313-cp313-manylinux2014_x86_64.manylinux_2_17_x86_64.whl (1.5 MB)\n",
      "Using cached pillow-11.3.0-cp313-cp313-manylinux_2_27_x86_64.manylinux_2_28_x86_64.whl (6.6 MB)\n",
      "Using cached pyparsing-3.2.3-py3-none-any.whl (111 kB)\n",
      "Using cached pytz-2025.2-py2.py3-none-any.whl (509 kB)\n",
      "Downloading scipy-1.16.1-cp313-cp313-manylinux2014_x86_64.manylinux_2_17_x86_64.whl (35.2 MB)\n",
      "\u001b[2K   \u001b[90m━━━━━━━━━━━━━━━━━━━━━━━━━━━━━━━━━━━━━━━━\u001b[0m \u001b[32m35.2/35.2 MB\u001b[0m \u001b[31m781.8 kB/s\u001b[0m  \u001b[33m0:00:41\u001b[0mm0:00:01\u001b[0m00:02\u001b[0m\n",
      "\u001b[?25hUsing cached threadpoolctl-3.6.0-py3-none-any.whl (18 kB)\n",
      "Using cached tzdata-2025.2-py2.py3-none-any.whl (347 kB)\n",
      "Installing collected packages: pytz, tzdata, threadpoolctl, pyparsing, pillow, numpy, kiwisolver, joblib, fonttools, cycler, scipy, pandas, contourpy, scikit-learn, matplotlib, seaborn\n",
      "\u001b[2K   \u001b[90m━━━━━━━━━━━━━━━━━━━━━━━━━━━━━━━━━━━━━━━━\u001b[0m \u001b[32m16/16\u001b[0m [seaborn]5/16\u001b[0m [seaborn]ib]n]]\n",
      "\u001b[1A\u001b[2KSuccessfully installed contourpy-1.3.3 cycler-0.12.1 fonttools-4.59.2 joblib-1.5.2 kiwisolver-1.4.9 matplotlib-3.10.5 numpy-2.3.2 pandas-2.3.2 pillow-11.3.0 pyparsing-3.2.3 pytz-2025.2 scikit-learn-1.7.1 scipy-1.16.1 seaborn-0.13.2 threadpoolctl-3.6.0 tzdata-2025.2\n"
     ]
    }
   ],
   "source": [
    "!pip install numpy pandas matplotlib seaborn scikit-learn"
   ]
  },
  {
   "cell_type": "markdown",
   "id": "e8e95f22",
   "metadata": {},
   "source": [
    "Importar librerias"
   ]
  },
  {
   "cell_type": "code",
   "execution_count": 2,
   "id": "b00617d5",
   "metadata": {},
   "outputs": [],
   "source": [
    "import numpy as np\n",
    "import pandas as pd\n",
    "import matplotlib.pyplot as plt\n",
    "import seaborn as sns\n",
    "from sklearn.model_selection import train_test_split"
   ]
  },
  {
   "cell_type": "markdown",
   "id": "636382e2",
   "metadata": {},
   "source": [
    "# 2. Arrays numpy\n",
    "\n",
    "#### Escalares"
   ]
  },
  {
   "cell_type": "code",
   "execution_count": 7,
   "id": "d8334c60",
   "metadata": {},
   "outputs": [
    {
     "name": "stdout",
     "output_type": "stream",
     "text": [
      "Escalar: 42\n",
      "Tipo de dato: <class 'numpy.ndarray'>\n",
      "Tipo de dato del escalar: int64\n",
      "Dimensiones del escalar: 0\n",
      "Forma del escalar: ()\n"
     ]
    }
   ],
   "source": [
    "escalar = np.array(42)\n",
    "print(\"Escalar:\", escalar)\n",
    "print(\"Tipo de dato:\",type(escalar))\n",
    "\n",
    "\n",
    "print(\"Tipo de dato del escalar:\", escalar.dtype)\n",
    "print(\"Dimensiones del escalar:\", escalar.ndim)\n",
    "print(\"Forma del escalar:\", escalar.shape)"
   ]
  },
  {
   "cell_type": "markdown",
   "id": "63ec88cf",
   "metadata": {},
   "source": [
    "#### vector\n",
    "\n",
    "vector con 1 dimencion"
   ]
  },
  {
   "cell_type": "code",
   "execution_count": 9,
   "id": "2b84d66b",
   "metadata": {},
   "outputs": [
    {
     "name": "stdout",
     "output_type": "stream",
     "text": [
      "Vector: [40 45 30 23 15 36 42]\n",
      "Tipo de dato del vector: int64\n",
      "Dimensiones del vector: 1\n",
      "Forma del vector: (7,)\n",
      "Elemento en la posición 2 del vector: 30\n"
     ]
    }
   ],
   "source": [
    "vector = np.array([40,45, 30, 23, 15, 36, 42])\n",
    "print(\"Vector:\", vector)\n",
    "\n",
    "\n",
    "print(\"Tipo de dato del vector:\", vector.dtype)\n",
    "print(\"Dimensiones del vector:\", vector.ndim)\n",
    "print(\"Forma del vector:\", vector.shape)\n",
    "print(\"Elemento en la posición 2 del vector:\", vector[2])"
   ]
  },
  {
   "cell_type": "markdown",
   "id": "71b8c0eb",
   "metadata": {},
   "source": [
    "#### Matriz\n",
    "\n",
    "matriz de 3 dimenciones"
   ]
  },
  {
   "cell_type": "code",
   "execution_count": 10,
   "id": "9a5831b7",
   "metadata": {},
   "outputs": [
    {
     "name": "stdout",
     "output_type": "stream",
     "text": [
      "Matriz:\n",
      " [[1 2 3]\n",
      " [4 5 6]\n",
      " [7 8 9]]\n"
     ]
    }
   ],
   "source": [
    "matrix = np.array([[1, 2, 3], [4, 5, 6], [7, 8, 9]])\n",
    "print(\"Matriz:\\n\", matrix)"
   ]
  },
  {
   "cell_type": "markdown",
   "id": "4f493733",
   "metadata": {},
   "source": [
    "#### Tensor\n",
    "\n",
    "matriz de 4 dimenciones"
   ]
  },
  {
   "cell_type": "code",
   "execution_count": 11,
   "metadata": {},
   "outputs": [
    {
     "name": "stdout",
     "output_type": "stream",
     "text": [
      "Tensor:\n",
      " [[[1 2]\n",
      "  [3 4]]\n",
      "\n",
      " [[5 6]\n",
      "  [7 8]]]\n"
     ]
    }
   ],
   "source": [
    "tensor = np.array([[[1, 2], [3, 4]], [[5, 6], [7, 8]]])\n",
    "print(\"Tensor:\\n\", tensor)"
   ]
  },
  {
   "cell_type": "markdown",
   "id": "a552a624",
   "metadata": {},
   "source": [
    "## creacion de arrays\n",
    "\n",
    "NumPy ofrece diversas formas para crear arrays, cada una adaptándose a situaciones específicas:\n",
    "\n",
    "- Conversión desde otras estructuras de Python, como listas y tuplas.\n",
    "- Funciones de creación, como `np.zeros` para matrices de ceros.\n",
    "- Replicación, unión o mutación de arrays existentes.\n",
    "- Lectura de arrays desde disco, en formatos estándar o personalizados.\n",
    "- Creación desde bytes crudos usando cadenas o buffers.\n",
    "- Funciones especiales de bibliotecas de álgebra lineal.\n",
    "\n",
    "Veamos un ejemplo usando `arange`:"
   ]
  },
  {
   "cell_type": "code",
   "execution_count": 14,
   "id": "0b09f0bb",
   "metadata": {},
   "outputs": [
    {
     "name": "stdout",
     "output_type": "stream",
     "text": [
      "Array creado con arange: [ 0  2  4  6  8 10]\n",
      "Array de ceros:\n",
      " [[0. 0. 0. 0.]\n",
      " [0. 0. 0. 0.]\n",
      " [0. 0. 0. 0.]]\n"
     ]
    }
   ],
   "source": [
    "array_arange = np.arange(0, 12, 2)\n",
    "print(\"Array creado con arange:\", array_arange)\n",
    "\n",
    "array_zeros = np.zeros((3, 4))\n",
    "print(\"Array de ceros:\\n\", array_zeros)"
   ]
  },
  {
   "cell_type": "markdown",
   "id": "2691f5dd",
   "metadata": {},
   "source": [
    "matriz de identidad"
   ]
  },
  {
   "cell_type": "code",
   "execution_count": 16,
   "id": "33262e45",
   "metadata": {},
   "outputs": [
    {
     "name": "stdout",
     "output_type": "stream",
     "text": [
      "Matriz identidad:\n",
      " [[1. 0. 0. 0.]\n",
      " [0. 1. 0. 0.]\n",
      " [0. 0. 1. 0.]\n",
      " [0. 0. 0. 1.]]\n",
      "Matriz identidad 6x6:\n",
      " [[1. 0. 0. 0. 0. 0.]\n",
      " [0. 1. 0. 0. 0. 0.]\n",
      " [0. 0. 1. 0. 0. 0.]\n",
      " [0. 0. 0. 1. 0. 0.]\n",
      " [0. 0. 0. 0. 1. 0.]\n",
      " [0. 0. 0. 0. 0. 1.]]\n"
     ]
    }
   ],
   "source": [
    "eye_matrix = np.eye(4)\n",
    "print(\"Matriz identidad:\\n\", eye_matrix)\n",
    "\n",
    "eye_matrix = np.eye(6)\n",
    "print(\"Matriz identidad 6x6:\\n\", eye_matrix)"
   ]
  },
  {
   "cell_type": "markdown",
   "id": "2e344451",
   "metadata": {},
   "source": [
    "matriz diagonal"
   ]
  },
  {
   "cell_type": "code",
   "execution_count": 17,
   "id": "9348174d",
   "metadata": {},
   "outputs": [
    {
     "name": "stdout",
     "output_type": "stream",
     "text": [
      "Matriz diagonal:\n",
      " [[1 0 0 0]\n",
      " [0 2 0 0]\n",
      " [0 0 3 0]\n",
      " [0 0 0 4]]\n"
     ]
    }
   ],
   "source": [
    "diagonal_matrix = np.diag([1, 2, 3, 4])\n",
    "print(\"Matriz diagonal:\\n\", diagonal_matrix)"
   ]
  },
  {
   "cell_type": "markdown",
   "id": "7a0128dc",
   "metadata": {},
   "source": [
    "matriz aleatoria"
   ]
  },
  {
   "cell_type": "code",
   "execution_count": 23,
   "id": "863e2447",
   "metadata": {},
   "outputs": [
    {
     "name": "stdout",
     "output_type": "stream",
     "text": [
      "Matriz aleatoria 4x4:\n",
      " [[0.79478213 0.85675131 0.45540242]\n",
      " [0.03556282 0.42961071 0.16610629]\n",
      " [0.30573717 0.98250052 0.08010246]]\n",
      "Matriz aleatoria 3x3:\n",
      " [[4 1 2]\n",
      " [2 3 3]\n",
      " [5 5 2]]\n"
     ]
    }
   ],
   "source": [
    "random_matrix = np.random.rand(3, 3)\n",
    "print(\"Matriz aleatoria 4x4:\\n\", random_matrix)\n",
    "\n",
    "random_matrix = np.random.randint(1, 6, size=(3, 3))\n",
    "print(\"Matriz aleatoria 3x3:\\n\", random_matrix)\n",
    "\n"
   ]
  },
  {
   "cell_type": "markdown",
   "id": "11dae061",
   "metadata": {},
   "source": [
    "# 3. Manipulación de Arrays NumPy \n",
    "\n",
    "#### atributos del array"
   ]
  },
  {
   "cell_type": "code",
   "execution_count": 24,
   "id": "49de8087",
   "metadata": {},
   "outputs": [
    {
     "name": "stdout",
     "output_type": "stream",
     "text": [
      "[[1 2 3]\n",
      " [4 5 6]]\n",
      "Dimensiones: 2\n",
      "Forma: (2, 3)\n",
      "Tipo de dato: int64\n",
      "Tamaño (número de elementos): 6\n",
      "Tamaño en bytes de cada elemento: 8\n",
      "Tamaño total en bytes del array: 48\n"
     ]
    }
   ],
   "source": [
    "array = np.array([[1, 2, 3], [4, 5, 6]])\n",
    "print(array)\n",
    "print(\"Dimensiones:\", array.ndim)\n",
    "print(\"Forma:\", array.shape)\n",
    "print(\"Tipo de dato:\", array.dtype)\n",
    "\n",
    "\n",
    "print(\"Tamaño (número de elementos):\", array.size)\n",
    "print(\"Tamaño en bytes de cada elemento:\", array.itemsize)\n",
    "print(\"Tamaño total en bytes del array:\", array.nbytes)"
   ]
  },
  {
   "cell_type": "markdown",
   "id": "115b7e1c",
   "metadata": {},
   "source": [
    "#### Especificando Tipos de Datos (Datatypes)\n",
    "\n",
    "Al crear un array, podemos especificar el tipo de datos que contendrá utilizando el parámetro `dtype`. Esta especificación es crucial para la eficiencia y precisión en cálculos numéricos. Aquí se detallan algunos de los tipos de datos más comunes:\n",
    "\n",
    "- `int32`: Entero de 32 bits.\n",
    "- `float32`: Número de punto flotante de 32 bits.\n",
    "- `float64`: Número de punto flotante de 64 bits (por defecto para números flotantes en NumPy).\n",
    "- `bool`: Valores booleanos (True o False).\n",
    "- `complex64`: Número complejo de 64 bits.\n",
    "- `complex128`: Número complejo de 128 bits.\n",
    "- `str`: Cadenas de texto.\n",
    "\n",
    "\n",
    "Podemos especificar estos tipos de datos al crear el array utilizando el parámetro `dtype`:"
   ]
  },
  {
   "cell_type": "code",
   "execution_count": 25,
   "id": "47a06f02",
   "metadata": {},
   "outputs": [
    {
     "name": "stdout",
     "output_type": "stream",
     "text": [
      "Array z: 3\n",
      "Tipo de dato de z: uint8\n"
     ]
    }
   ],
   "source": [
    "z = np.array(3, dtype=np.uint8)\n",
    "print(\"Array z:\", z)\n",
    "print(\"Tipo de dato de z:\", z.dtype)"
   ]
  },
  {
   "cell_type": "markdown",
   "id": "57701490",
   "metadata": {},
   "source": [
    "especificar el tipo de dato"
   ]
  },
  {
   "cell_type": "code",
   "execution_count": null,
   "id": "b2e6cbfd",
   "metadata": {},
   "outputs": [
    {
     "name": "stdout",
     "output_type": "stream",
     "text": [
      "Array de tipo float64: [1. 2. 3.]\n",
      "Tipo de dato: float64\n",
      "Array de tipo float64: [1. 2. 3.]\n",
      "Tipo de dato: float64\n",
      "Array de tipo int32: [1. 2. 3.]\n",
      "Tipo de dato: float64\n"
     ]
    }
   ],
   "source": [
    "double_array = np.array([1, 2, 3], dtype=np.float64)\n",
    "print(\"Array de tipo float64:\", double_array)\n",
    "print(\"Tipo de dato:\", double_array.dtype)\n",
    "\n",
    "double_array = np.array([1, 2, 3], dtype='double')\n",
    "print(\"Array de tipo int32:\", double_array)\n",
    "print(\"Tipo de dato:\", double_array.dtype)\n",
    "\n",
    "double_array = np.array([1, 2, 3], dtype='d')\n",
    "print(\"Array de tipo float64:\", double_array)\n",
    "print(\"Tipo de dato:\", double_array.dtype)\n"
   ]
  },
  {
   "cell_type": "markdown",
   "id": "b373efe2",
   "metadata": {},
   "source": [
    "coversion de tipo con astype"
   ]
  },
  {
   "cell_type": "code",
   "execution_count": 29,
   "id": "22bfb389",
   "metadata": {},
   "outputs": [
    {
     "name": "stdout",
     "output_type": "stream",
     "text": [
      "Array z después de convertir a float32: 3.0\n",
      "Tipo de dato de z después de la conversión: float32\n"
     ]
    }
   ],
   "source": [
    "z = z.astype(np.float32)\n",
    "print(\"Array z después de convertir a float32:\", z)\n",
    "print(\"Tipo de dato de z después de la conversión:\", z.dtype)"
   ]
  },
  {
   "cell_type": "markdown",
   "id": "379eaeb8",
   "metadata": {},
   "source": [
    "notaciones con numpy\n",
    "\n",
    "suma"
   ]
  },
  {
   "cell_type": "code",
   "execution_count": 30,
   "id": "40760b0e",
   "metadata": {},
   "outputs": [
    {
     "name": "stdout",
     "output_type": "stream",
     "text": [
      "Suma de todos los elementos del array: 21\n"
     ]
    }
   ],
   "source": [
    "array = np.array([[1, 2, 3], [4, 5, 6]])\n",
    "sum = np.sum(array)\n",
    "print(\"Suma de todos los elementos del array:\", sum)"
   ]
  },
  {
   "cell_type": "markdown",
   "id": "2b3e6e58",
   "metadata": {},
   "source": [
    "media"
   ]
  },
  {
   "cell_type": "code",
   "execution_count": 31,
   "id": "93ef547a",
   "metadata": {},
   "outputs": [
    {
     "name": "stdout",
     "output_type": "stream",
     "text": [
      "Media de todos los elementos del array: 3.5\n"
     ]
    }
   ],
   "source": [
    "mean = np.mean(array)\n",
    "print(\"Media de todos los elementos del array:\", mean)"
   ]
  },
  {
   "cell_type": "markdown",
   "id": "1f013267",
   "metadata": {},
   "source": [
    "desviacion estandar"
   ]
  },
  {
   "cell_type": "code",
   "execution_count": 32,
   "id": "7f02d2a0",
   "metadata": {},
   "outputs": [
    {
     "name": "stdout",
     "output_type": "stream",
     "text": [
      "Desviación estándar de todos los elementos del array: 1.707825127659933\n"
     ]
    }
   ],
   "source": [
    "std = np.std(array)\n",
    "print(\"Desviación estándar de todos los elementos del array:\", std)"
   ]
  },
  {
   "cell_type": "code",
   "execution_count": 35,
   "id": "43bbcce7",
   "metadata": {},
   "outputs": [
    {
     "name": "stdout",
     "output_type": "stream",
     "text": [
      "Array A:\n",
      " [[1 2]\n",
      " [3 4]]\n",
      "Array B:\n",
      " [[5 6]\n",
      " [7 8]]\n",
      "Suma de dos arrays:\n",
      " [[ 6  8]\n",
      " [10 12]]\n",
      "Producto de dos arrays:\n",
      " [[ 5 12]\n",
      " [21 32]]\n"
     ]
    }
   ],
   "source": [
    "arrayA = np.array([[1, 2], [3, 4]])\n",
    "print(\"Array A:\\n\", arrayA)\n",
    "arrayB = np.array([[5, 6], [7, 8]])\n",
    "print(\"Array B:\\n\", arrayB)\n",
    "sum_arrays = arrayA + arrayB\n",
    "print(\"Suma de dos arrays:\\n\", sum_arrays)\n",
    "product_arrays = arrayA * arrayB\n",
    "print(\"Producto de dos arrays:\\n\", product_arrays)"
   ]
  },
  {
   "cell_type": "markdown",
   "id": "21a02eef",
   "metadata": {},
   "source": [
    "# 5. indexación y Slicing en Numpy"
   ]
  },
  {
   "cell_type": "code",
   "execution_count": 39,
   "id": "d1f8cc9f",
   "metadata": {},
   "outputs": [
    {
     "name": "stdout",
     "output_type": "stream",
     "text": [
      "Array original:\n",
      " [10 20 30 40 50]\n",
      "Segundo elemento del array: 20\n",
      "Ultimo elemnto del array: 50\n"
     ]
    }
   ],
   "source": [
    "array = np.array([10, 20, 30, 40, 50])\n",
    "print(\"Array original:\\n\", array)\n",
    "print(\"Segundo elemento del array:\",array[1])\n",
    "print(\"Ultimo elemnto del array:\",array[-1])"
   ]
  }
 ],
 "metadata": {
  "kernelspec": {
   "display_name": "env",
   "language": "python",
   "name": "python3"
  },
  "language_info": {
   "codemirror_mode": {
    "name": "ipython",
    "version": 3
   },
   "file_extension": ".py",
   "mimetype": "text/x-python",
   "name": "python",
   "nbconvert_exporter": "python",
   "pygments_lexer": "ipython3",
   "version": "3.13.7"
  }
 },
 "nbformat": 4,
 "nbformat_minor": 5
}
